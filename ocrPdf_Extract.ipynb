{
 "cells": [
  {
   "cell_type": "code",
   "execution_count": 1,
   "metadata": {},
   "outputs": [],
   "source": [
    "import pytesseract\n",
    "from pdf2image import convert_from_path\n",
    "import cv2\n",
    "import numpy as np\n",
    "import os\n",
    "from PIL import Image\n"
   ]
  },
  {
   "cell_type": "code",
   "execution_count": 2,
   "metadata": {},
   "outputs": [
    {
     "data": {
      "text/plain": [
       "'E:\\\\git\\\\SmartOCR-Mail--Automated-Email-Parsing--Document-Digitization--and-Intelligent-Search\\\\outputs\\\\extracted_text.txt'"
      ]
     },
     "execution_count": 2,
     "metadata": {},
     "output_type": "execute_result"
    }
   ],
   "source": [
    "def preprocess_image(image_path):\n",
    "    \"\"\"Enhance image for better OCR accuracy.\"\"\"\n",
    "    image = cv2.imread(image_path, cv2.IMREAD_GRAYSCALE)\n",
    "    image = cv2.threshold(image, 150, 255, cv2.THRESH_BINARY + cv2.THRESH_OTSU)[1]\n",
    "    return image\n",
    "\n",
    "def extract_text_from_image(image):\n",
    "    \"\"\"Extract text from a preprocessed image using Tesseract OCR.\"\"\"\n",
    "    pytesseract.pytesseract.tesseract_cmd = r\"C:\\Program Files\\Tesseract-OCR\\tesseract.exe\"  # Specify Tesseract path\n",
    "    text = pytesseract.image_to_string(image, lang='eng')\n",
    "    return text\n",
    "\n",
    "def extract_text_from_pdf(pdf_path, output_txt_path, poppler_path):\n",
    "    \"\"\"Convert a scanned PDF into text by extracting images and applying OCR.\"\"\"\n",
    "    images = convert_from_path(pdf_path, poppler_path=poppler_path)\n",
    "    extracted_text = \"\"\n",
    "    \n",
    "    for i, image in enumerate(images):\n",
    "        image_path = f\"temp_page_{i}.png\"\n",
    "        image.save(image_path, \"PNG\")\n",
    "        \n",
    "        processed_image = preprocess_image(image_path)\n",
    "        text = extract_text_from_image(processed_image)\n",
    "        extracted_text += f\"\\n--- Page {i+1} ---\\n{text}\\n\"\n",
    "        \n",
    "        os.remove(image_path)\n",
    "    \n",
    "    with open(output_txt_path, \"w\", encoding=\"utf-8\") as f:\n",
    "        f.write(extracted_text)\n",
    "    \n",
    "    return output_txt_path\n",
    "\n",
    "# Example Usage\n",
    "pdf_path = r\"E:\\git\\SmartOCR-Mail--Automated-Email-Parsing--Document-Digitization--and-Intelligent-Search\\sampleInput_1.pdf\"  # Replace with your actual PDF file\n",
    "output_txt_path = r\"E:\\git\\SmartOCR-Mail--Automated-Email-Parsing--Document-Digitization--and-Intelligent-Search\\outputs\\extracted_text.txt\"\n",
    "poppler_path = r\"E:\\git\\poppler-24.08.0\\Library\\bin\"  # Update with your Poppler path\n",
    "\n",
    "extract_text_from_pdf(pdf_path, output_txt_path, poppler_path)\n"
   ]
  },
  {
   "cell_type": "code",
   "execution_count": null,
   "metadata": {},
   "outputs": [],
   "source": []
  }
 ],
 "metadata": {
  "kernelspec": {
   "display_name": "Python 3",
   "language": "python",
   "name": "python3"
  },
  "language_info": {
   "codemirror_mode": {
    "name": "ipython",
    "version": 3
   },
   "file_extension": ".py",
   "mimetype": "text/x-python",
   "name": "python",
   "nbconvert_exporter": "python",
   "pygments_lexer": "ipython3",
   "version": "3.11.9"
  }
 },
 "nbformat": 4,
 "nbformat_minor": 2
}
